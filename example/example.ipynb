{
 "cells": [
  {
   "cell_type": "markdown",
   "id": "b146e2ef-2fba-4af6-ab32-cf6622517b55",
   "metadata": {},
   "source": [
    "# Write lisp code in a jupyter notebook!"
   ]
  },
  {
   "cell_type": "code",
   "execution_count": 1,
   "id": "28cfb427-b90e-4cc6-98c0-a7a27a93d18a",
   "metadata": {
    "tags": []
   },
   "outputs": [
    {
     "name": "stdout",
     "output_type": "stream",
     "text": [
      "11\r"
     ]
    }
   ],
   "source": [
    "(+ 3 8)"
   ]
  },
  {
   "cell_type": "code",
   "execution_count": 2,
   "id": "181a95cb-e0e5-45aa-995b-dcd5c7ab0fbf",
   "metadata": {
    "tags": []
   },
   "outputs": [
    {
     "name": "stdout",
     "output_type": "stream",
     "text": [
      "SQUARE\r"
     ]
    }
   ],
   "source": [
    "(defun square (x)\n",
    "  (* x x))"
   ]
  },
  {
   "cell_type": "code",
   "execution_count": 3,
   "id": "76d20218-ccca-4207-b73c-fcbc7b5f9696",
   "metadata": {
    "tags": []
   },
   "outputs": [
    {
     "name": "stdout",
     "output_type": "stream",
     "text": [
      "1787569\r"
     ]
    }
   ],
   "source": [
    "(square 1337)"
   ]
  }
 ],
 "metadata": {
  "kernelspec": {
   "display_name": "Lisp",
   "language": "",
   "name": "janslispkernel"
  },
  "language_info": {
   "file_extension": ".lisp",
   "mimetype": "application/lisp",
   "name": "lisp"
  }
 },
 "nbformat": 4,
 "nbformat_minor": 5
}
