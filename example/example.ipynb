{
 "cells": [
  {
   "cell_type": "markdown",
   "id": "b146e2ef-2fba-4af6-ab32-cf6622517b55",
   "metadata": {},
   "source": [
    "# Write lisp code in a jupyter notebook!"
   ]
  },
  {
   "cell_type": "code",
   "execution_count": 24,
   "id": "28cfb427-b90e-4cc6-98c0-a7a27a93d18a",
   "metadata": {
    "tags": []
   },
   "outputs": [
    {
     "name": "stdout",
     "output_type": "stream",
     "text": [
      "11\r"
     ]
    }
   ],
   "source": [
    "(+ 3 8)"
   ]
  },
  {
   "cell_type": "code",
   "execution_count": 25,
   "id": "181a95cb-e0e5-45aa-995b-dcd5c7ab0fbf",
   "metadata": {
    "tags": []
   },
   "outputs": [
    {
     "name": "stdout",
     "output_type": "stream",
     "text": [
      "SQUARE\r"
     ]
    }
   ],
   "source": [
    "(defun square (x)\n",
    "  (* x x))"
   ]
  },
  {
   "cell_type": "code",
   "execution_count": 26,
   "id": "76d20218-ccca-4207-b73c-fcbc7b5f9696",
   "metadata": {
    "tags": []
   },
   "outputs": [
    {
     "name": "stdout",
     "output_type": "stream",
     "text": [
      "1787569\r"
     ]
    }
   ],
   "source": [
    "(square 1337)"
   ]
  },
  {
   "cell_type": "code",
   "execution_count": 23,
   "id": "6436a1eb-e277-41df-b343-8331f9caf163",
   "metadata": {
    "tags": []
   },
   "outputs": [
    {
     "name": "stdout",
     "output_type": "stream",
     "text": [
      "\n",
      "*** - DEFUN: Daraus kann keine Funktion definiert werden: NIL\n",
      "Mögliche Optionen:\n",
      "ABORT          :R1      Abort debug loop\n",
      "ABORT          :R2      Abort debug loop\n",
      "ABORT          :R3      Abort debug loop\n",
      "ABORT          :R4      Abort debug loop\n",
      "ABORT          :R5      Abort debug loop\n",
      "ABORT          :R6      Abort debug loop\n",
      "ABORT          :R7      Abort debug loop\n",
      "ABORT          :R8      Abort debug loop\n",
      "ABORT          :R9      Abort debug loop\n",
      "ABORT          :R10     Abort debug loop\n",
      "ABORT          :R11     Abort main loop\r"
     ]
    }
   ],
   "source": [
    "(defun)"
   ]
  },
  {
   "cell_type": "code",
   "execution_count": 34,
   "id": "0e2f68f8-16a1-4f2a-b403-10f85edee328",
   "metadata": {
    "tags": []
   },
   "outputs": [
    {
     "name": "stdout",
     "output_type": "stream",
     "text": [
      "\n",
      "*** - SYSTEM::READ-EVAL-PRINT: variable R3 has no value\n",
      "Mögliche Optionen:\n",
      "USE-VALUE      :R1      Input a value to be used instead of R3.\n",
      "STORE-VALUE    :R2      Input a new value for R3.\n",
      "ABORT          :R3      Abort debug loop\n",
      "ABORT          :R4      Abort debug loop\n",
      "ABORT          :R5      Abort debug loop\n",
      "ABORT          :R6      Abort debug loop\n",
      "ABORT          :R7      Abort debug loop\n",
      "ABORT          :R8      Abort debug loop\n",
      "ABORT          :R9      Abort debug loop\n",
      "ABORT          :R10     Abort debug loop\n",
      "ABORT          :R11     Abort debug loop\n",
      "ABORT          :R12     Abort debug loop\n",
      "ABORT          :R13     Abort debug loop\n",
      "ABORT          :R14     Abort debug loop\n",
      "ABORT          :R15     Abort debug loop\n",
      "ABORT          :R16     Abort debug loop\n",
      "ABORT          :R17     Abort debug loop\n",
      "ABORT          :R18     Abort debug loop\n",
      "ABORT          :R19     Abort debug loop\n",
      "ABORT          :R20     Abort debug loop\n",
      "ABORT          :R21     Abort main loop\r"
     ]
    }
   ],
   "source": [
    "(ABO R3)"
   ]
  }
 ],
 "metadata": {
  "kernelspec": {
   "display_name": "Lisp",
   "language": "",
   "name": "janslispkernel"
  },
  "language_info": {
   "file_extension": ".lisp",
   "mimetype": "application/lisp",
   "name": "lisp"
  }
 },
 "nbformat": 4,
 "nbformat_minor": 5
}
